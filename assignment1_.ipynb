{
  "nbformat": 4,
  "nbformat_minor": 0,
  "metadata": {
    "colab": {
      "provenance": [],
      "collapsed_sections": [],
      "authorship_tag": "ABX9TyPTizx+bNQU9oV/qd7SVfKn",
      "include_colab_link": true
    },
    "kernelspec": {
      "name": "python3",
      "display_name": "Python 3"
    },
    "language_info": {
      "name": "python"
    }
  },
  "cells": [
    {
      "cell_type": "markdown",
      "metadata": {
        "id": "view-in-github",
        "colab_type": "text"
      },
      "source": [
        "<a href=\"https://colab.research.google.com/github/lrburle/ML_Assignment1/blob/master/assignment1_.ipynb\" target=\"_parent\"><img src=\"https://colab.research.google.com/assets/colab-badge.svg\" alt=\"Open In Colab\"/></a>"
      ]
    },
    {
      "cell_type": "markdown",
      "source": [
        "# Assignment 1 - Landon Burleson - Fall 2022"
      ],
      "metadata": {
        "id": "4ZDoqsmlgIWp"
      }
    },
    {
      "cell_type": "markdown",
      "source": [
        "This assigment is used to demonstrate a basic Linear Regression model for various data sets. "
      ],
      "metadata": {
        "id": "jKQdBWwfgQWi"
      }
    },
    {
      "cell_type": "code",
      "source": [
        "!git clone https://github.com/lrburle/ML_Assignment1.git"
      ],
      "metadata": {
        "colab": {
          "base_uri": "https://localhost:8080/"
        },
        "id": "G4ukvZgkhBNi",
        "outputId": "8c388bdd-5aa4-44b3-f8d1-6ebc7378143c"
      },
      "execution_count": 2,
      "outputs": [
        {
          "output_type": "stream",
          "name": "stdout",
          "text": [
            "Cloning into 'ML_Assignment1'...\n",
            "remote: Enumerating objects: 43, done.\u001b[K\n",
            "remote: Counting objects: 100% (43/43), done.\u001b[K\n",
            "remote: Compressing objects: 100% (32/32), done.\u001b[K\n",
            "remote: Total 43 (delta 21), reused 33 (delta 11), pack-reused 0\u001b[K\n",
            "Unpacking objects: 100% (43/43), done.\n"
          ]
        }
      ]
    },
    {
      "cell_type": "markdown",
      "source": [
        "Shown below are the necessary imports needed for the assignment. "
      ],
      "metadata": {
        "id": "JK_pxPPXhiPB"
      }
    },
    {
      "cell_type": "code",
      "source": [
        "import numpy as np\n",
        "import matplotlib.pyplot as plt\n",
        "import csv"
      ],
      "metadata": {
        "id": "6RzHVlCcgblV"
      },
      "execution_count": 1,
      "outputs": []
    },
    {
      "cell_type": "markdown",
      "source": [
        "The below code is used for the top level class of the assignment:"
      ],
      "metadata": {
        "id": "bKPCfsqDhprq"
      }
    },
    {
      "cell_type": "code",
      "execution_count": 3,
      "metadata": {
        "id": "bKpRIcvh8P0G"
      },
      "outputs": [],
      "source": [
        "class assign1:\n",
        "        def __init__(self):\n",
        "                self.a = 0.3 #Learning rate\n",
        "\n",
        "                #Basis Function Variables\n",
        "                self.mu = 0 #Mean Value\n",
        "                self.phi = 1 #Variance\n",
        "        \n",
        "        def init_theta(self, m, n):\n",
        "                self.theta = np.random.random((m, n))\n",
        "\n",
        "        def hypothesis(self, xdata):\n",
        "                y = np.dot(self.theta, xdata)\n",
        "                return y\n",
        "\n",
        "        def costFunction(self, xdata, ydata):\n",
        "                [m, n] = xdata.shape\n",
        "\n",
        "                sum = 0\n",
        "                for i in range(m):\n",
        "                        sum += (self.hypothesis(xdata[i])-ydata[i])**2\n",
        "                costf = (1/m) * sum\n",
        "\n",
        "                return costf\n",
        "\n",
        "        def gradientDescent(self, xdata, ydata):\n",
        "                [m, n] = xdata.shape\n",
        "\n",
        "                theta_new = self.theta.copy()\n",
        "\n",
        "                for j in range(n):\n",
        "                        sum = 0 \n",
        "                        for i in range(m):\n",
        "                                sum += (self.hypothesis(xdata[i]) - ydata[i]) * xdata[i, j]\n",
        "\n",
        "                        theta_new[0, j] = self.theta[0, j] - self.a * (1 / m) * sum\n",
        "                \n",
        "                self.theta = theta_new \n",
        "\n",
        "\t#Used to modifify the input data appropriately\n",
        "        def sigmoidBasis(self, data):\n",
        "                [m,n] = data.shape\n",
        "                out = np.zeros((m, 1))\n",
        "                out[:,0] = np.exp(((data[:, 0] - self.mu) ** 2) / (2*self.phi**2)) \n",
        "                return np.concatenate((data, out), axis=1)\n",
        "\n",
        "        def polynomialBasis(self, data, order):\n",
        "                [m,n] = data.shape\n",
        "                out = np.zeros((m, 1))\n",
        "                out[:,0] = data[:, 0] ** order\n",
        "                return np.concatenate((data, out), axis=1) \n",
        "        \n",
        "        def concatOnes(self, data):\n",
        "                [m,n] = data.shape\n",
        "                out = np.ones((m, 1))\n",
        "                return np.concatenate((out, data), axis=1)\n",
        "        \n",
        "        #Parses the csv data for question 2\n",
        "        def csvParse(self, csvFile):\n",
        "                file = open(csvFile, 'r')\n",
        "                #Grabbing the header names for each column\n",
        "                reader = csv.DictReader(file)\n",
        "                header = reader.fieldnames\n",
        "                header = header[1:-1]\n",
        "                file = file.readlines()[0:]\n",
        "                data = np.loadtxt(file, delimiter=',')\n",
        "\n",
        "                [x,y] = data.shape\n",
        "\n",
        "                x_train = data[0:(x//2), 1:(y-1)]\n",
        "                y_train = data[0:(x//2), (y-1)]\n",
        "                x_test = data[(x//2):x, 1:(y-1)]\n",
        "                y_test = data[(x//2):x, (y-1)]\n",
        "                \n",
        "                return x_train, y_train, x_test, y_test, header\n",
        "\n",
        "\t#Selects a feature set from the question 2 dataset\n",
        "        def featureSelection(self, data, columns):\n",
        "                [m,n] = data.shape\n",
        "                data_out = np.ones((m, 1))\n",
        "\n",
        "                for i in columns:\n",
        "                        data_out = np.concatenate((data_out, data[:, i].reshape((m, 1))), axis=1)\n",
        "\n",
        "                return data_out\n",
        "        \n",
        "        #Calculates the prediction error.\n",
        "        def predictionError(self, actual, predicted):\n",
        "                return (np.abs(actual - predicted) / np.abs(actual))\n",
        "\n",
        "\t#Local weight algorithms used for Question 3\n",
        "        def localWeight(self, query, tao):\n",
        "                [m, n] = self.x_train.shape\n",
        "                self.w = np.zeros((m, 1))\n",
        "                \n",
        "                for i in range(m):\n",
        "                        self.w[i] = np.exp(-(self.x_train[i] - query) ** 2 / (2*tao**2))\n",
        "\n",
        "        def costFunctionLR(self):\n",
        "                [m, n] = self.w.shape\n",
        "\n",
        "                for i in range(m):\n",
        "                       self.costfLR += self.w[i] * (self.theta.T * self.x_train[i] - self.y_train[i])\n",
        "                \n",
        "                self.constfLR = 0.5 * self.constfLR \n",
        "        \n",
        "        def hypothesisDataGeneration(self, lowerbounds, upperbounds, order):\n",
        "                xdata = np.linspace(lowerbounds, upperbounds, 1000)\n",
        "                data = xdata \n",
        "\n",
        "                data = data.reshape((1000, 1))\n",
        "\n",
        "                for i in range(2, order+1):\n",
        "                        data = self.polynomialBasis(data, i)\n",
        "\n",
        "                data = self.concatOnes(data) #Input data with the order desired to be concatenated into the original dataset.\n",
        "\n",
        "                h = []\n",
        "\n",
        "                for i in range(1000):\n",
        "                        h.append(self.hypothesis(data[i]))\n",
        "\n",
        "                return xdata, h"
      ]
    },
    {
      "cell_type": "code",
      "source": [
        "a1 = assign1()"
      ],
      "metadata": {
        "id": "fMTzolDih9yN"
      },
      "execution_count": 4,
      "outputs": []
    },
    {
      "cell_type": "markdown",
      "source": [
        "# Question 1"
      ],
      "metadata": {
        "id": "5Dse0oGyh0Ti"
      }
    },
    {
      "cell_type": "markdown",
      "source": [
        "The code found in the block below initializes the data set and the various variables used to measure the accuracy the built model."
      ],
      "metadata": {
        "id": "pDM1F0upkojj"
      }
    },
    {
      "cell_type": "code",
      "source": [
        "#Load in the data to be used for question 1\n",
        "x_test = np.load('./ML_Assignment1/x_test.npy')\n",
        "x_train = np.load('./ML_Assignment1/x_train.npy')\n",
        "y_test = np.load('./ML_Assignment1/y_test.npy')\n",
        "y_train = np.load('./ML_Assignment1/y_train.npy')\n",
        "\n",
        "#Training the model for assignment 1\n",
        "order = 1 #Changes the polynomial basis functions.\n",
        "\n",
        "for i in range(2, order+1):\n",
        "        x_train = a1.polynomialBasis(x_train, i) #Input data with the order desired to be concatenated into the original dataset.\n",
        "\n",
        "x_train = a1.concatOnes(x_train) #Place 1's in the first column of the data set. \n",
        "\n",
        "[n, m] = x_train.shape\n",
        "\n",
        "#Initialize the Parameters based upon the dimensionality of the training dataset\n",
        "a1.init_theta(1, m)\n",
        "\n",
        "#Generate the initial hypothesis function\n",
        "x, h = a1.hypothesisDataGeneration(np.min(x_train[:, 1]),np.max(x_train[:,1]), order )\n",
        "\n",
        "#Generate initial point for cost function\n",
        "error = []\n",
        "error.append(a1.costFunction(x_train, y_train))"
      ],
      "metadata": {
        "id": "ThMY1Nbrhyqr"
      },
      "execution_count": 9,
      "outputs": []
    },
    {
      "cell_type": "markdown",
      "source": [
        "The following code block is used to plot and execute the gradient descent algorithm on the training dataset provided above. "
      ],
      "metadata": {
        "id": "BAyfoFpUk6R2"
      }
    },
    {
      "cell_type": "code",
      "source": [
        "#Plot the initial training data and hypothesis function.\n",
        "plt.ion()\n",
        "plt.figure(0, figsize=[10, 8])\n",
        "plt.xlabel('x', fontsize=18)\n",
        "plt.ylabel('y', fontsize=18)\n",
        "plt.title('Question 1 - Linear Regression', fontsize=24)\n",
        "plt.ylim(-50, 70)\n",
        "og, hypth = plt.plot(x_train[:, 1], y_train, 'o', x, h, 'r-')\n",
        "\n",
        "hypth.set_label('Hypothesis')\n",
        "og.set_label('Training Data Set')\n",
        "plt.legend(loc='lower right')\n",
        "plt.grid()\n",
        "\n",
        "print(f'Initialzed theta array is: {a1.theta}')\n",
        "\n",
        "iterations = 100\n",
        "for k in range(iterations):\n",
        "        print(f'Current iteration is {k} @ error = {error[-1]}')\n",
        "        a1.gradientDescent(x_train, y_train)\n",
        "        x, h = a1.hypothesisDataGeneration(np.min(x_train[:, 1]),np.max(x_train[:,1]), order)\n",
        "        error.append(a1.costFunction(x_train, y_train))\n",
        "        epsilon = np.abs(error[-1] - error[-2])\n",
        "        hypth.set_ydata(h)\n",
        "        plt.draw()\n",
        "        if (epsilon < 10e-6):\n",
        "                print('Convergence threshold met.')\n",
        "                break\n",
        "\n",
        "plt.show()\n",
        "\n",
        "print(f'Theta array after training: {a1.theta}')"
      ],
      "metadata": {
        "colab": {
          "base_uri": "https://localhost:8080/",
          "height": 977
        },
        "id": "D3wFqxtKjyrf",
        "outputId": "f921ce26-4a30-491b-e03b-1f62b95a905d"
      },
      "execution_count": 10,
      "outputs": [
        {
          "output_type": "stream",
          "name": "stdout",
          "text": [
            "Initialzed theta array is: [[0.64820706 0.73937844]]\n",
            "Current iteration is 0 @ error = [214.55749625]\n",
            "Current iteration is 1 @ error = [185.65071956]\n",
            "Current iteration is 2 @ error = [177.37009199]\n",
            "Current iteration is 3 @ error = [173.32526908]\n",
            "Current iteration is 4 @ error = [171.31689637]\n",
            "Current iteration is 5 @ error = [170.31930795]\n",
            "Current iteration is 6 @ error = [169.82378685]\n",
            "Current iteration is 7 @ error = [169.57765206]\n",
            "Current iteration is 8 @ error = [169.45539221]\n",
            "Current iteration is 9 @ error = [169.39466341]\n",
            "Current iteration is 10 @ error = [169.36449825]\n",
            "Current iteration is 11 @ error = [169.34951465]\n",
            "Current iteration is 12 @ error = [169.342072]\n",
            "Current iteration is 13 @ error = [169.3383751]\n",
            "Current iteration is 14 @ error = [169.33653878]\n",
            "Current iteration is 15 @ error = [169.33562664]\n",
            "Current iteration is 16 @ error = [169.33517357]\n",
            "Current iteration is 17 @ error = [169.33494851]\n",
            "Current iteration is 18 @ error = [169.33483673]\n",
            "Current iteration is 19 @ error = [169.3347812]\n",
            "Current iteration is 20 @ error = [169.33475362]\n",
            "Current iteration is 21 @ error = [169.33473992]\n",
            "Convergence threshold met.\n"
          ]
        },
        {
          "output_type": "display_data",
          "data": {
            "text/plain": [
              "<Figure size 720x576 with 1 Axes>"
            ],
            "image/png": "[encoded data removed]"
          },
          "metadata": {
            "needs_background": "light"
          }
        },
        {
          "output_type": "stream",
          "name": "stdout",
          "text": [
            "Theta array after training: [[6.19061211 3.30633333]]\n"
          ]
        }
      ]
    },
    {
      "cell_type": "markdown",
      "source": [
        "The following code utilizes the linear regression model trained via gradient descent as shown above."
      ],
      "metadata": {
        "id": "H2pPWtq8kWNe"
      }
    },
    {
      "cell_type": "code",
      "source": [
        "#Testing the model for Question 1\n",
        "for i in range(2, order+1):\n",
        "        x_test = a1.polynomialBasis(x_test, order) #Input data with the order desired to be concatenated into the original dataset.\n",
        "x_test = a1.concatOnes(x_test) #Input data with the order desired to be concatenated into the original dataset.\n",
        "\n",
        "# Collect the prediction error for each point in the test data set.\n",
        "# e = []\n",
        "\n",
        "# for i in range(n):\n",
        "#         y = a1.hypothesis(x_test[i])\n",
        "#         e.append(a1.predictionError(y_test[i], y))\n",
        "\n",
        "# x = np.linspace(1, n+1)"
      ],
      "metadata": {
        "id": "R-fmkUHij--2"
      },
      "execution_count": 11,
      "outputs": []
    },
    {
      "cell_type": "markdown",
      "source": [
        "# Question 2"
      ],
      "metadata": {
        "id": "u8DFdfAJlWAS"
      }
    },
    {
      "cell_type": "markdown",
      "source": [
        "The following code blocks are used to create the plots and graphics necessary to model the "
      ],
      "metadata": {
        "id": "6eNZC2GGlYmC"
      }
    }
  ]
}